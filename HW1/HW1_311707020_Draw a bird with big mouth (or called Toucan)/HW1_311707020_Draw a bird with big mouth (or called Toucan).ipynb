{
  "nbformat": 4,
  "nbformat_minor": 0,
  "metadata": {
    "colab": {
      "provenance": [],
      "collapsed_sections": []
    },
    "kernelspec": {
      "name": "python3",
      "display_name": "Python 3"
    },
    "language_info": {
      "name": "python"
    }
  },
  "cells": [
    {
      "cell_type": "code",
      "execution_count": 2,
      "metadata": {
        "colab": {
          "base_uri": "https://localhost:8080/",
          "height": 248
        },
        "id": "1L9Z5OTKshFN",
        "outputId": "cd8f11a0-5618-4cb1-aab8-9056aa4e122b"
      },
      "outputs": [
        {
          "output_type": "display_data",
          "data": {
            "text/plain": [
              "<Figure size 432x288 with 1 Axes>"
            ],
            "image/png": "[encoded data removed]"
          },
          "metadata": {
            "needs_background": "light"
          }
        }
      ],
      "source": [
        "from matplotlib import animation\n",
        "from numpy import append, cos, linspace, pi, sin, zeros\n",
        "import matplotlib.pyplot as plt\n",
        "\n",
        "# Big mouth bird parameters, last one is the eye\n",
        "parameters = [-40 + 30j, 20 + 30j, 30 + 16j, 40 + 30j, -30 + 20j]\n",
        "\n",
        "def fourier(t, C):\n",
        "    f = zeros(t.shape)\n",
        "    for k in range(len(C)):\n",
        "        f += C.real[k] * cos(k * t) + C.imag[k] * sin(k * t)\n",
        "    return f\n",
        "\n",
        "\n",
        "def bird(t, p):\n",
        "    npar = 6\n",
        "\n",
        "    Cx = zeros((npar,), dtype='complex')\n",
        "    Cy = zeros((npar,), dtype='complex')\n",
        "\n",
        "    Cx[1] = p[0].real * 1j\n",
        "    Cy[1] = p[3].imag + p[0].imag * 1j\n",
        "\n",
        "    Cx[2] = p[1].real * 1j\n",
        "    Cy[2] = p[1].imag * 1j\n",
        "\n",
        "    Cx[3] = p[2].real\n",
        "    Cy[3] = p[2].imag * 1j\n",
        "\n",
        "    Cx[5] = p[3].real\n",
        "\n",
        "    x = append(fourier(t, Cy), [p[4].imag])\n",
        "    y = -append(fourier(t, Cx), [-p[4].imag])\n",
        "\n",
        "    return x, y\n",
        "\n",
        "\n",
        "def init_plot():\n",
        "    # draw the body of the bird\n",
        "    # create trunk\n",
        "    x, y = bird(linspace(2 * pi + 0.9 * pi, 0.4 + 3.3 * pi, 1000), parameters)\n",
        "    for ii in range(len(y) - 1):\n",
        "        y[ii] -= sin(((x[ii] - x[0]) * pi / len(y))) * sin(float(0)) * parameters[4].real\n",
        "    trunk.set_data(x, y)\n",
        "    return trunk,\n",
        "\n",
        "\n",
        "def move_trunk(i):\n",
        "    x, y = bird(linspace(2 * pi + 0.9 * pi, 0.4 + 3.3 * pi, 1000), parameters)\n",
        "    # move trunk to new position (but don't move eye stored at end or array)\n",
        "    for ii in range(len(y) - 1):\n",
        "        y[ii] -= sin(((x[ii] - x[0]) * pi / len(y))) * sin(float(i)) * parameters[4].real\n",
        "    trunk.set_data(x, y)\n",
        "    return trunk,\n",
        "\n",
        "\n",
        "fig, ax = plt.subplots()\n",
        "# initial the bird body\n",
        "x, y = bird(t=linspace(0.4 + 1.3 * pi, 2 * pi + 0.9 * pi, 1000), p=parameters)\n",
        "plt.plot(x, y, 'b.')\n",
        "plt.xlim([-75, 90])\n",
        "plt.ylim([-70, 87])\n",
        "plt.axis('off')\n",
        "trunk, = ax.plot([], [], 'b.')  # initialize trunk\n",
        "\n",
        "ani = animation.FuncAnimation(fig=fig,\n",
        "                              func=move_trunk,\n",
        "                              frames=1000,\n",
        "                              init_func=init_plot,\n",
        "                              interval=500,\n",
        "                              blit=False,\n",
        "                              repeat=True)\n",
        "plt.show()"
      ]
    }
  ]
}