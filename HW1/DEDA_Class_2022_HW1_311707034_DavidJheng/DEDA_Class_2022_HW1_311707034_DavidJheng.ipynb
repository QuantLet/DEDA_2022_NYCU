{
 "cells": [
  {
   "cell_type": "code",
   "execution_count": 1,
   "id": "c75dc1c7-dcf2-4bb0-8501-946aa9cd7a98",
   "metadata": {},
   "outputs": [
    {
     "ename": "RuntimeError",
     "evalue": "Requested MovieWriter (ffmpeg) not available",
     "output_type": "error",
     "traceback": [
      "\u001b[0;31m---------------------------------------------------------------------------\u001b[0m",
      "\u001b[0;31mRuntimeError\u001b[0m                              Traceback (most recent call last)",
      "\u001b[1;32m/Users/johnnyjheng/Documents/研究所/碩一上/財務工程專題/Homework/DEDA_Class_2022_HW1_311707034_DavidJheng/DEDA_Class_2022_311707034_Draw a nodding doggy.ipynb Cell 1\u001b[0m in \u001b[0;36m<cell line: 119>\u001b[0;34m()\u001b[0m\n\u001b[1;32m    <a href='vscode-notebook-cell:/Users/johnnyjheng/Documents/%E7%A0%94%E7%A9%B6%E6%89%80/%E7%A2%A9%E4%B8%80%E4%B8%8A/%E8%B2%A1%E5%8B%99%E5%B7%A5%E7%A8%8B%E5%B0%88%E9%A1%8C/Homework/DEDA_Class_2022_HW1_311707034_DavidJheng/DEDA_Class_2022_311707034_Draw%20a%20nodding%20doggy.ipynb#W0sZmlsZQ%3D%3D?line=115'>116</a>\u001b[0m plt\u001b[39m.\u001b[39msavefig(\u001b[39m\"\u001b[39m\u001b[39mDEDA_Class_2022_311707034_Nodding Doggy\u001b[39m\u001b[39m\"\u001b[39m, transparent\u001b[39m=\u001b[39m \u001b[39mTrue\u001b[39;00m)\n\u001b[1;32m    <a href='vscode-notebook-cell:/Users/johnnyjheng/Documents/%E7%A0%94%E7%A9%B6%E6%89%80/%E7%A2%A9%E4%B8%80%E4%B8%8A/%E8%B2%A1%E5%8B%99%E5%B7%A5%E7%A8%8B%E5%B0%88%E9%A1%8C/Homework/DEDA_Class_2022_HW1_311707034_DavidJheng/DEDA_Class_2022_311707034_Draw%20a%20nodding%20doggy.ipynb#W0sZmlsZQ%3D%3D?line=116'>117</a>\u001b[0m plt\u001b[39m.\u001b[39mshow()\n\u001b[0;32m--> <a href='vscode-notebook-cell:/Users/johnnyjheng/Documents/%E7%A0%94%E7%A9%B6%E6%89%80/%E7%A2%A9%E4%B8%80%E4%B8%8A/%E8%B2%A1%E5%8B%99%E5%B7%A5%E7%A8%8B%E5%B0%88%E9%A1%8C/Homework/DEDA_Class_2022_HW1_311707034_DavidJheng/DEDA_Class_2022_311707034_Draw%20a%20nodding%20doggy.ipynb#W0sZmlsZQ%3D%3D?line=118'>119</a>\u001b[0m Writer \u001b[39m=\u001b[39m animation\u001b[39m.\u001b[39;49mwriters[\u001b[39m'\u001b[39;49m\u001b[39mffmpeg\u001b[39;49m\u001b[39m'\u001b[39;49m]\n\u001b[1;32m    <a href='vscode-notebook-cell:/Users/johnnyjheng/Documents/%E7%A0%94%E7%A9%B6%E6%89%80/%E7%A2%A9%E4%B8%80%E4%B8%8A/%E8%B2%A1%E5%8B%99%E5%B7%A5%E7%A8%8B%E5%B0%88%E9%A1%8C/Homework/DEDA_Class_2022_HW1_311707034_DavidJheng/DEDA_Class_2022_311707034_Draw%20a%20nodding%20doggy.ipynb#W0sZmlsZQ%3D%3D?line=120'>121</a>\u001b[0m metadata \u001b[39m=\u001b[39m \u001b[39mdict\u001b[39m(title\u001b[39m=\u001b[39m\u001b[39m'\u001b[39m\u001b[39mNodding Doggy\u001b[39m\u001b[39m'\u001b[39m, artist\u001b[39m=\u001b[39m\u001b[39m'\u001b[39m\u001b[39mJohnnyJheng\u001b[39m\u001b[39m'\u001b[39m)\n\u001b[1;32m    <a href='vscode-notebook-cell:/Users/johnnyjheng/Documents/%E7%A0%94%E7%A9%B6%E6%89%80/%E7%A2%A9%E4%B8%80%E4%B8%8A/%E8%B2%A1%E5%8B%99%E5%B7%A5%E7%A8%8B%E5%B0%88%E9%A1%8C/Homework/DEDA_Class_2022_HW1_311707034_DavidJheng/DEDA_Class_2022_311707034_Draw%20a%20nodding%20doggy.ipynb#W0sZmlsZQ%3D%3D?line=121'>122</a>\u001b[0m writer \u001b[39m=\u001b[39m Writer(fps\u001b[39m=\u001b[39m\u001b[39m30\u001b[39m, metadata\u001b[39m=\u001b[39mmetadata, bitrate\u001b[39m=\u001b[39m\u001b[39m1800\u001b[39m)\n",
      "File \u001b[0;32m~/opt/anaconda3/lib/python3.9/site-packages/matplotlib/animation.py:151\u001b[0m, in \u001b[0;36mMovieWriterRegistry.__getitem__\u001b[0;34m(self, name)\u001b[0m\n\u001b[1;32m    149\u001b[0m \u001b[39mif\u001b[39;00m \u001b[39mself\u001b[39m\u001b[39m.\u001b[39mis_available(name):\n\u001b[1;32m    150\u001b[0m     \u001b[39mreturn\u001b[39;00m \u001b[39mself\u001b[39m\u001b[39m.\u001b[39m_registered[name]\n\u001b[0;32m--> 151\u001b[0m \u001b[39mraise\u001b[39;00m \u001b[39mRuntimeError\u001b[39;00m(\u001b[39mf\u001b[39m\u001b[39m\"\u001b[39m\u001b[39mRequested MovieWriter (\u001b[39m\u001b[39m{\u001b[39;00mname\u001b[39m}\u001b[39;00m\u001b[39m) not available\u001b[39m\u001b[39m\"\u001b[39m)\n",
      "\u001b[0;31mRuntimeError\u001b[0m: Requested MovieWriter (ffmpeg) not available"
     ]
    }
   ],
   "source": [
    "\"\"\"\n",
    "vonNeuman_elephant.py\n",
    "    \"With four parameters I can fit an elephant,\n",
    "       and with five I can make him wiggle his trunk.\"\n",
    "\n",
    "Original Versions:\n",
    "\n",
    "    Author[1]: Piotr A. Zolnierczuk (zolnierczukp at ornl dot gov)\n",
    "    Retrieved on 14 September 2011 from\n",
    "    http://www.johndcook.com/blog/2011/06/21/how-to-fit-an-elephant/\n",
    "Modified to wiggle trunk:\n",
    "    2 October 2011 by David Bailey (http://www.physics.utoronto.ca/~dbailey)\n",
    "\n",
    "    Author[2]:\n",
    "    Advanced Physics Laboratory\n",
    "    https://www.physics.utoronto.ca/~phy326/python/\n",
    "\n",
    "Based on the paper:\n",
    "    \"Drawing an elephant with four complex parameters\", by\n",
    "    Jurgen Mayer, Khaled Khairy, and Jonathon Howard,\n",
    "    Am. J. Phys. 78, 648 (2010), DOI:10.1119/1.3254017\n",
    "\n",
    "    The paper does not specify how the wiggle parameter controls the\n",
    "    trunk, so a guess was made.\n",
    "\n",
    "Inspired by John von Neumann's famous quote (above) about overfitting data.\n",
    "    Attributed to von Neumann by Enrico Fermi, as quoted by\n",
    "      Freeman Dyson in \"A meeting with Enrico Fermi\" in\n",
    "      Nature 427 (22 January 2004) p. 297\n",
    "      \n",
    "Python Version: 3.6\n",
    "Modified based on author[2]'s work\n",
    "Author: Johnny Jheng\n",
    "\n",
    "Overfiting problem in trading strategy stated:\n",
    "Bailey, D., Borwein, J., Lopez de Prado, M., & Zhu, Q. (2014).\n",
    "Pseudo-mathematics and financial charlatanism: The effects of backtest overfitting on out-of-sample performance.\n",
    "\"\"\"\n",
    "\n",
    "import matplotlib\n",
    "\n",
    "matplotlib.use('TKAgg')\n",
    "from matplotlib import animation\n",
    "from numpy import append, cos, linspace, pi, sin, zeros\n",
    "import matplotlib.pyplot as plt\n",
    "\n",
    "# doggy parameters\n",
    "parameters = [20 + 5j, 2 + 15j, 14 - 9j, 14 - 30j, 20 + 25j]\n",
    "\n",
    "\n",
    "def fourier(t, C):\n",
    "    f = zeros(t.shape)\n",
    "    for k in range(len(C)):\n",
    "        f += C.real[k] * cos(k * t) + C.imag[k] * sin(k * t)\n",
    "    return f\n",
    "\n",
    "\n",
    "def doggy(t, p):\n",
    "    npar = 6\n",
    "\n",
    "    Cx = zeros((npar,), dtype='complex')\n",
    "    Cy = zeros((npar,), dtype='complex')\n",
    "\n",
    "    Cx[1] = p[0].real * 1j\n",
    "    Cy[1] = p[3].imag + p[0].imag * 1j\n",
    "\n",
    "    Cx[2] = p[1].real * 1j\n",
    "    Cy[2] = p[1].imag * 1j\n",
    "\n",
    "    Cx[3] = p[2].real\n",
    "    Cy[3] = p[2].imag * 1j\n",
    "\n",
    "    Cx[5] = p[3].real\n",
    "\n",
    "    x = append(fourier(t, Cy), [p[4].imag])\n",
    "    y = -append(fourier(t, Cx), [-p[4].imag])\n",
    "\n",
    "    return x, y\n",
    "\n",
    "\n",
    "def init_plot():\n",
    "    # draw the body of the doggy\n",
    "    # create trunk\n",
    "    x, y = doggy(linspace(2 * pi + 0.9 * pi, 0.4 + 3.3 * pi, 1000), parameters)\n",
    "    for ii in range(len(y) - 1):\n",
    "        y[ii] -= sin(((x[ii] - x[0]) * pi / len(y))) * sin(float(0)) * parameters[4].real\n",
    "    trunk.set_data(x, y)\n",
    "    return trunk,\n",
    "\n",
    "\n",
    "def move_trunk(i):\n",
    "    x, y = doggy(linspace(2 * pi + 0.9 * pi, 0.4 + 3.3 * pi, 1000), parameters)\n",
    "    # move trunk to new position (but don't move eye stored at end or array)\n",
    "    for ii in range(len(y) - 1):\n",
    "        y[ii] -= sin(((x[ii] - x[0]) * pi / len(y))) * sin(float(i)) * parameters[4].real\n",
    "    trunk.set_data(x, y)\n",
    "    return trunk,\n",
    "\n",
    "\n",
    "fig, ax = plt.subplots()\n",
    "# initial the doggy body\n",
    "x, y = doggy(t=linspace(0.4 + 1.3 * pi, 2 * pi + 0.9 * pi, 1000), p=parameters)\n",
    "plt.plot(x, y, 'r.')\n",
    "plt.xlim([-75, 90])\n",
    "plt.ylim([-70, 90])\n",
    "plt.axis('off')\n",
    "trunk, = ax.plot([], [], 'r.')  # initialize trunk\n",
    "\n",
    "ani = animation.FuncAnimation(fig=fig,\n",
    "                              func=move_trunk,\n",
    "                              frames=1000,\n",
    "                              init_func=init_plot,\n",
    "                              interval=6,\n",
    "                              blit=False,\n",
    "                              repeat=True)\n",
    "plt.savefig(\"DEDA_Class_2022_311707034_Nodding Doggy\", transparent= True)\n",
    "plt.show()\n",
    "\n",
    "Writer = animation.writers['ffmpeg']\n",
    "\n",
    "metadata = dict(title='Nodding Doggy', artist='JohnnyJheng')\n",
    "writer = Writer(fps=30, metadata=metadata, bitrate=1800)\n",
    "ani.save(filename='DEDA_Class_2022_311707034_Nodding Doggy.mp4', writer=writer)"
   ]
  },
  {
   "cell_type": "code",
   "execution_count": 3,
   "id": "113429ad",
   "metadata": {},
   "outputs": [
    {
     "data": {
      "text/plain": [
       "'/Users/johnnyjheng/Documents/研究所/碩一上/財務工程專題/HW1_FittingElephant/DEDA_Class_2022_311707034_Draw a nodding doggy'"
      ]
     },
     "execution_count": 3,
     "metadata": {},
     "output_type": "execute_result"
    }
   ],
   "source": [
    "import os\n",
    "os.getcwd()"
   ]
  },
  {
   "cell_type": "code",
   "execution_count": 4,
   "id": "4902f77b-7965-4d48-85e6-a896f15b9a24",
   "metadata": {},
   "outputs": [
    {
     "ename": "RuntimeError",
     "evalue": "Requested MovieWriter (ffmpeg) not available",
     "output_type": "error",
     "traceback": [
      "\u001b[0;31m---------------------------------------------------------------------------\u001b[0m",
      "\u001b[0;31mRuntimeError\u001b[0m                              Traceback (most recent call last)",
      "Input \u001b[0;32mIn [4]\u001b[0m, in \u001b[0;36m<cell line: 1>\u001b[0;34m()\u001b[0m\n\u001b[0;32m----> 1\u001b[0m Writer \u001b[38;5;241m=\u001b[39m \u001b[43manimation\u001b[49m\u001b[38;5;241;43m.\u001b[39;49m\u001b[43mwriters\u001b[49m\u001b[43m[\u001b[49m\u001b[38;5;124;43m'\u001b[39;49m\u001b[38;5;124;43mffmpeg\u001b[39;49m\u001b[38;5;124;43m'\u001b[39;49m\u001b[43m]\u001b[49m\n\u001b[1;32m      3\u001b[0m metadata \u001b[38;5;241m=\u001b[39m \u001b[38;5;28mdict\u001b[39m(title\u001b[38;5;241m=\u001b[39m\u001b[38;5;124m'\u001b[39m\u001b[38;5;124mNodding Doggy\u001b[39m\u001b[38;5;124m'\u001b[39m, artist\u001b[38;5;241m=\u001b[39m\u001b[38;5;124m'\u001b[39m\u001b[38;5;124mJohnnyJheng\u001b[39m\u001b[38;5;124m'\u001b[39m)\n\u001b[1;32m      4\u001b[0m writer \u001b[38;5;241m=\u001b[39m Writer(fps\u001b[38;5;241m=\u001b[39m\u001b[38;5;241m30\u001b[39m, metadata\u001b[38;5;241m=\u001b[39mmetadata, bitrate\u001b[38;5;241m=\u001b[39m\u001b[38;5;241m1800\u001b[39m)\n",
      "File \u001b[0;32m~/opt/anaconda3/lib/python3.9/site-packages/matplotlib/animation.py:151\u001b[0m, in \u001b[0;36mMovieWriterRegistry.__getitem__\u001b[0;34m(self, name)\u001b[0m\n\u001b[1;32m    149\u001b[0m \u001b[38;5;28;01mif\u001b[39;00m \u001b[38;5;28mself\u001b[39m\u001b[38;5;241m.\u001b[39mis_available(name):\n\u001b[1;32m    150\u001b[0m     \u001b[38;5;28;01mreturn\u001b[39;00m \u001b[38;5;28mself\u001b[39m\u001b[38;5;241m.\u001b[39m_registered[name]\n\u001b[0;32m--> 151\u001b[0m \u001b[38;5;28;01mraise\u001b[39;00m \u001b[38;5;167;01mRuntimeError\u001b[39;00m(\u001b[38;5;124mf\u001b[39m\u001b[38;5;124m\"\u001b[39m\u001b[38;5;124mRequested MovieWriter (\u001b[39m\u001b[38;5;132;01m{\u001b[39;00mname\u001b[38;5;132;01m}\u001b[39;00m\u001b[38;5;124m) not available\u001b[39m\u001b[38;5;124m\"\u001b[39m)\n",
      "\u001b[0;31mRuntimeError\u001b[0m: Requested MovieWriter (ffmpeg) not available"
     ]
    }
   ],
   "source": [
    "\n",
    "Writer = animation.writers['ffmpeg']\n",
    "\n",
    "metadata = dict(title='Nodding Doggy', artist='JohnnyJheng')\n",
    "writer = Writer(fps=30, metadata=metadata, bitrate=1800)\n",
    "ani.save(filename='nodding_doggy.mp4', writer=writer)"
   ]
  }
 ],
 "metadata": {
  "kernelspec": {
   "display_name": "Python 3.9.12 ('base')",
   "language": "python",
   "name": "python3"
  },
  "language_info": {
   "codemirror_mode": {
    "name": "ipython",
    "version": 3
   },
   "file_extension": ".py",
   "mimetype": "text/x-python",
   "name": "python",
   "nbconvert_exporter": "python",
   "pygments_lexer": "ipython3",
   "version": "3.9.12"
  },
  "vscode": {
   "interpreter": {
    "hash": "b4a9a6b1f237362cddd9ee6ba101cf9c7ba4a0c9b4bc72029864730f0e36c123"
   }
  }
 },
 "nbformat": 4,
 "nbformat_minor": 5
}
