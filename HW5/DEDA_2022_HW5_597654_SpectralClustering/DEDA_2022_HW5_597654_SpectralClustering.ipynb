{
 "cells": [
  {
   "cell_type": "code",
   "execution_count": 67,
   "id": "fe22ac41",
   "metadata": {},
   "outputs": [],
   "source": [
    "import pandas as pd\n",
    "import matplotlib.pyplot as plt\n",
    "import numpy as np"
   ]
  },
  {
   "cell_type": "code",
   "execution_count": 68,
   "id": "26f24c41",
   "metadata": {},
   "outputs": [],
   "source": [
    "df = pd.read_csv(\"/Users/davidalexanderbehrens/Downloads/report.csv\")"
   ]
  },
  {
   "cell_type": "code",
   "execution_count": 69,
   "id": "5b8e639f",
   "metadata": {},
   "outputs": [],
   "source": [
    "df_2015 = df[df.report_year==2015]"
   ]
  },
  {
   "cell_type": "code",
   "execution_count": 70,
   "id": "352063e3",
   "metadata": {},
   "outputs": [],
   "source": [
    "df_2015.reset_index(drop=True, inplace=True)"
   ]
  },
  {
   "cell_type": "code",
   "execution_count": 71,
   "id": "391af3d3",
   "metadata": {},
   "outputs": [
    {
     "data": {
      "text/plain": [
       "Index(['report_year', 'agency_code', 'agency_jurisdiction', 'population',\n",
       "       'violent_crimes', 'homicides', 'rapes', 'assaults', 'robberies',\n",
       "       'months_reported', 'crimes_percapita', 'homicides_percapita',\n",
       "       'rapes_percapita', 'assaults_percapita', 'robberies_percapita'],\n",
       "      dtype='object')"
      ]
     },
     "execution_count": 71,
     "metadata": {},
     "output_type": "execute_result"
    }
   ],
   "source": [
    "df.columns"
   ]
  },
  {
   "cell_type": "code",
   "execution_count": 74,
   "id": "efb6a7ba",
   "metadata": {},
   "outputs": [
    {
     "data": {
      "image/png": "[encoded data removed]",
      "text/plain": [
       "<Figure size 640x480 with 1 Axes>"
      ]
     },
     "metadata": {},
     "output_type": "display_data"
    }
   ],
   "source": [
    "plt.scatter(np.log(df_2015.population), np.log(df_2015.crimes_percapita))\n",
    "plt.xlabel(\"log population\")\n",
    "plt.ylabel(\"log crimes per capita\")\n",
    "plt.savefig(\"log_population_log_crimes_per_capita_scatter\", transparent = True)"
   ]
  },
  {
   "cell_type": "code",
   "execution_count": 75,
   "id": "80f0a6e4",
   "metadata": {},
   "outputs": [],
   "source": [
    "cl_data = np.log(df_2015[[\"population\", \"crimes_percapita\"]])"
   ]
  },
  {
   "cell_type": "code",
   "execution_count": 76,
   "id": "ec1150af",
   "metadata": {},
   "outputs": [
    {
     "data": {
      "text/html": [
       "<div>\n",
       "<style scoped>\n",
       "    .dataframe tbody tr th:only-of-type {\n",
       "        vertical-align: middle;\n",
       "    }\n",
       "\n",
       "    .dataframe tbody tr th {\n",
       "        vertical-align: top;\n",
       "    }\n",
       "\n",
       "    .dataframe thead th {\n",
       "        text-align: right;\n",
       "    }\n",
       "</style>\n",
       "<table border=\"1\" class=\"dataframe\">\n",
       "  <thead>\n",
       "    <tr style=\"text-align: right;\">\n",
       "      <th></th>\n",
       "      <th>population</th>\n",
       "      <th>crimes_percapita</th>\n",
       "    </tr>\n",
       "  </thead>\n",
       "  <tbody>\n",
       "    <tr>\n",
       "      <th>0</th>\n",
       "      <td>13.235194</td>\n",
       "      <td>6.872998</td>\n",
       "    </tr>\n",
       "    <tr>\n",
       "      <th>1</th>\n",
       "      <td>12.867639</td>\n",
       "      <td>6.218819</td>\n",
       "    </tr>\n",
       "    <tr>\n",
       "      <th>2</th>\n",
       "      <td>13.049169</td>\n",
       "      <td>7.020745</td>\n",
       "    </tr>\n",
       "    <tr>\n",
       "      <th>3</th>\n",
       "      <td>12.794517</td>\n",
       "      <td>6.132986</td>\n",
       "    </tr>\n",
       "    <tr>\n",
       "      <th>4</th>\n",
       "      <td>13.752281</td>\n",
       "      <td>5.920318</td>\n",
       "    </tr>\n",
       "    <tr>\n",
       "      <th>...</th>\n",
       "      <td>...</td>\n",
       "      <td>...</td>\n",
       "    </tr>\n",
       "    <tr>\n",
       "      <th>64</th>\n",
       "      <td>12.903013</td>\n",
       "      <td>6.806354</td>\n",
       "    </tr>\n",
       "    <tr>\n",
       "      <th>65</th>\n",
       "      <td>13.023199</td>\n",
       "      <td>4.929064</td>\n",
       "    </tr>\n",
       "    <tr>\n",
       "      <th>66</th>\n",
       "      <td>13.418353</td>\n",
       "      <td>7.092216</td>\n",
       "    </tr>\n",
       "    <tr>\n",
       "      <th>67</th>\n",
       "      <td>12.873451</td>\n",
       "      <td>6.892439</td>\n",
       "    </tr>\n",
       "    <tr>\n",
       "      <th>68</th>\n",
       "      <td>NaN</td>\n",
       "      <td>5.920505</td>\n",
       "    </tr>\n",
       "  </tbody>\n",
       "</table>\n",
       "<p>69 rows × 2 columns</p>\n",
       "</div>"
      ],
      "text/plain": [
       "    population  crimes_percapita\n",
       "0    13.235194          6.872998\n",
       "1    12.867639          6.218819\n",
       "2    13.049169          7.020745\n",
       "3    12.794517          6.132986\n",
       "4    13.752281          5.920318\n",
       "..         ...               ...\n",
       "64   12.903013          6.806354\n",
       "65   13.023199          4.929064\n",
       "66   13.418353          7.092216\n",
       "67   12.873451          6.892439\n",
       "68         NaN          5.920505\n",
       "\n",
       "[69 rows x 2 columns]"
      ]
     },
     "execution_count": 76,
     "metadata": {},
     "output_type": "execute_result"
    }
   ],
   "source": [
    "cl_data"
   ]
  },
  {
   "cell_type": "code",
   "execution_count": 77,
   "id": "4898089e",
   "metadata": {},
   "outputs": [],
   "source": [
    "x = cl_data.to_numpy()"
   ]
  },
  {
   "cell_type": "code",
   "execution_count": 78,
   "id": "391078f6",
   "metadata": {},
   "outputs": [],
   "source": [
    "delinx=[]\n",
    "for i in range(len(x)):\n",
    "    if np.isnan(x[i][0]) or np.isnan(x[i][1]):\n",
    "        delinx.append(i)"
   ]
  },
  {
   "cell_type": "code",
   "execution_count": 79,
   "id": "719757b1",
   "metadata": {},
   "outputs": [],
   "source": [
    "delinx=np.array(delinx)\n",
    "x=np.delete(x, delinx,0)"
   ]
  },
  {
   "cell_type": "code",
   "execution_count": 80,
   "id": "43d0ac15",
   "metadata": {},
   "outputs": [
    {
     "data": {
      "text/plain": [
       "array([[13.23519372,  6.87299819],\n",
       "       [12.86763886,  6.21881922],\n",
       "       [13.04916883,  7.02074462],\n",
       "       [12.79451743,  6.13298581],\n",
       "       [13.75228105,  5.92031757],\n",
       "       [13.33949208,  7.33689134],\n",
       "       [13.40793021,  6.56073359],\n",
       "       [12.46108689,  7.0198153 ],\n",
       "       [13.68519342,  6.51854239],\n",
       "       [14.81933403,  6.80665235],\n",
       "       [12.60645151,  6.82982617],\n",
       "       [13.65033516,  6.30311336],\n",
       "       [14.07939444,  6.54273129],\n",
       "       [13.43339765,  6.51312625],\n",
       "       [13.41983488,  7.47283611],\n",
       "       [13.43874515,  5.90421678],\n",
       "       [13.912365  ,  4.48198509],\n",
       "       [13.62885683,  6.26406471],\n",
       "       [13.16319241,  6.31215214],\n",
       "       [13.81481732,  5.4966353 ],\n",
       "       [14.63758775,  6.87386752],\n",
       "       [13.66895182,  7.16083038],\n",
       "       [13.67309179,  6.47427642],\n",
       "       [13.06763894,  7.25649482],\n",
       "       [14.26156339,  6.82516683],\n",
       "       [13.07384098,  6.36423427],\n",
       "       [13.9216159 ,  6.14251041],\n",
       "       [15.19244273,  6.45334149],\n",
       "       [13.43065657,  6.4486362 ],\n",
       "       [13.39686294,  7.46172085],\n",
       "       [13.06268556,  6.03703525],\n",
       "       [13.99385087,  6.24798485],\n",
       "       [12.98990341,  6.9288414 ],\n",
       "       [13.30535138,  7.37531843],\n",
       "       [12.93236201,  6.96878452],\n",
       "       [13.82464471,  5.27099756],\n",
       "       [13.39700428,  7.0039923 ],\n",
       "       [13.87488734,  4.82189317],\n",
       "       [12.88270165,  6.85599872],\n",
       "       [15.96154254,  6.37292722],\n",
       "       [12.53936125,  7.00364711],\n",
       "       [12.94677351,  7.274133  ],\n",
       "       [13.35446033,  6.64064678],\n",
       "       [13.02199483,  6.24412806],\n",
       "       [12.50037525,  6.84654986],\n",
       "       [14.2651903 ,  6.93629414],\n",
       "       [14.26003226,  6.38645836],\n",
       "       [12.63417948,  6.55984184],\n",
       "       [13.43745291,  6.16373577],\n",
       "       [12.99080261,  5.94628411],\n",
       "       [13.10158295,  6.60307624],\n",
       "       [12.16520898,  6.75138213],\n",
       "       [14.19640015,  6.37534845],\n",
       "       [14.15231631,  5.98790823],\n",
       "       [13.6690757 ,  6.65520866],\n",
       "       [13.84648389,  5.79797081],\n",
       "       [13.4352745 ,  6.39467712],\n",
       "       [12.66695669,  7.50500811],\n",
       "       [14.10926391,  4.82719311],\n",
       "       [12.80596079,  6.44676689],\n",
       "       [13.18001889,  6.4853983 ],\n",
       "       [12.90301262,  6.80635358],\n",
       "       [13.02319918,  4.92906364],\n",
       "       [13.41835285,  7.09221621],\n",
       "       [12.87345063,  6.89243857]])"
      ]
     },
     "execution_count": 80,
     "metadata": {},
     "output_type": "execute_result"
    }
   ],
   "source": [
    "x"
   ]
  },
  {
   "cell_type": "code",
   "execution_count": 81,
   "id": "4354985d",
   "metadata": {},
   "outputs": [],
   "source": [
    "from sklearn.cluster import SpectralClustering\n",
    "sc = SpectralClustering(n_clusters=5).fit(x)"
   ]
  },
  {
   "cell_type": "code",
   "execution_count": 82,
   "id": "ddf3c109",
   "metadata": {},
   "outputs": [
    {
     "data": {
      "image/png": "[encoded data removed]",
      "text/plain": [
       "<Figure size 640x480 with 1 Axes>"
      ]
     },
     "metadata": {},
     "output_type": "display_data"
    }
   ],
   "source": [
    "labels = sc.labels_\n",
    "\n",
    "plt.scatter(x[:,0], x[:,1], c=labels)\n",
    "plt.xlabel(\"log population\")\n",
    "plt.ylabel(\"log crimes per capita\")\n",
    "plt.savefig(\"log_population_log_crimes_per_capita_clustered\", transparent = True)\n",
    "\n",
    "plt.show()  \n",
    " "
   ]
  },
  {
   "cell_type": "code",
   "execution_count": null,
   "id": "ff71c807",
   "metadata": {},
   "outputs": [],
   "source": []
  }
 ],
 "metadata": {
  "kernelspec": {
   "display_name": "Python 3 (ipykernel)",
   "language": "python",
   "name": "python3"
  },
  "language_info": {
   "codemirror_mode": {
    "name": "ipython",
    "version": 3
   },
   "file_extension": ".py",
   "mimetype": "text/x-python",
   "name": "python",
   "nbconvert_exporter": "python",
   "pygments_lexer": "ipython3",
   "version": "3.9.13"
  }
 },
 "nbformat": 4,
 "nbformat_minor": 5
}
